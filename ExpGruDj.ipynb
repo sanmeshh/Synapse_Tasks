{
 "cells": [
  {
   "cell_type": "code",
   "execution_count": 62,
   "id": "6864e6e7-b720-41c4-b1ea-4625c1b48bd2",
   "metadata": {},
   "outputs": [
    {
     "name": "stdout",
     "output_type": "stream",
     "text": [
      "DJ pair: ('Stuart', 'Edith') , Overall Percentage: 40.00%\n",
      "DJ pair: ('Kevin', 'Bob') , Overall Percentage: 38.18%\n",
      "DJ pair: ('Stuart', 'Bob') , Overall Percentage: 38.18%\n",
      "DJ pair: ('Bob', 'Edith') , Overall Percentage: 38.18%\n",
      "DJ pair: ('Kevin', 'Edith') , Overall Percentage: 30.00%\n",
      "Highest Overall Overlap DJ pair is : Stuart and Edith\n"
     ]
    }
   ],
   "source": [
    "from itertools import combinations\n",
    "\n",
    "Kevin = {\"Halsey\", \"Taylor Swift\", \"Mitski\", \"Joji\", \"Shawn Mendes\", \"Sabrina Carpenter\", \"Nicky Minaj\", \"Conan Gray\", \"One Direction\", \"Justin Bieber\"}\n",
    "Stuart = {\"Kendrick Lamar\", \"Steve Lacy\", \"Tyler the Creator\", \"Joji\", \"TheWeeknd\", \"Coldplay\", \"Kanye West\", \"Travis Scott\", \"Frank Ocean\", \"Brent Faiyaz\"}\n",
    "Bob = {\"Conan Gray\", \"Joji\", \"Dove Cameron\", \"Mitski\", \"Arctic Monkeys\", \"Steve Lacy\", \"Kendrick Lamar\", \"Isabel LaRosa\", \"Shawn Mendes\", \"Coldplay\", \"Lauv\"}\n",
    "Edith = {\"Metallica\", \"Billie Eilish\", \"TheWeeknd\", \"Mitski\", \"NF\", \"Conan Gray\", \"Kendrick Lamar\", \"Nicky Minaj\", \"Kanye West\", \"Coldplay\"}\n",
    "names=(\"Kevin\",\"Stuart\",\"Bob\",\"Edith\")\n",
    "value=(Kevin,Stuart,Bob,Edith)\n",
    "djdict=zip(names,value)\n",
    "\n",
    "djlst = dict(djdict)\n",
    "\n",
    "pairs=[]\n",
    "\n",
    "\n",
    "for i,j in combinations(djlst.keys(),2):\n",
    "    s1=djlst[i]\n",
    "    s2=djlst[j]\n",
    "    \n",
    "    s=(s1.intersection(s2))\n",
    "    overlap1=len(s)/len(s1)\n",
    "    overlap2=len(s)/len(s2)\n",
    "    avg=((overlap1+overlap2)/2)*100\n",
    "    if avg>=30:\n",
    "        pairs.append(((i,j),avg))\n",
    "\n",
    "pairs.sort(reverse=True,key=lambda x : x[1])\n",
    "for djpair,percnt in pairs:\n",
    "    print(f\"DJ pair: {djpair} , Overall Percentage: {percnt:.2f}%\") \n",
    "\n",
    "print(f\"Highest Overall Overlap DJ pair is : {pairs[0][0][0]} and {pairs[0][0][1]}\")\n",
    "\n",
    "\n",
    "    \n",
    "    \n",
    "    \n",
    "    \n",
    "    \n",
    "\n",
    "\n",
    "\n",
    "\n",
    "    \n",
    "\n",
    "\n",
    "\n"
   ]
  },
  {
   "cell_type": "code",
   "execution_count": null,
   "id": "aeaf29ee-cc36-4953-92c7-27869fd34a08",
   "metadata": {},
   "outputs": [],
   "source": []
  }
 ],
 "metadata": {
  "kernelspec": {
   "display_name": "Python 3 (ipykernel)",
   "language": "python",
   "name": "python3"
  },
  "language_info": {
   "codemirror_mode": {
    "name": "ipython",
    "version": 3
   },
   "file_extension": ".py",
   "mimetype": "text/x-python",
   "name": "python",
   "nbconvert_exporter": "python",
   "pygments_lexer": "ipython3",
   "version": "3.12.4"
  }
 },
 "nbformat": 4,
 "nbformat_minor": 5
}
