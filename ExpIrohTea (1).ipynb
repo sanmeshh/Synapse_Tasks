{
 "cells": [
  {
   "cell_type": "code",
   "execution_count": 13,
   "id": "92ac7857-cf29-41d4-96f9-936a14f5c9b3",
   "metadata": {},
   "outputs": [
    {
     "name": "stdin",
     "output_type": "stream",
     "text": [
      "number of customers:  4\n"
     ]
    },
    {
     "name": "stdout",
     "output_type": "stream",
     "text": [
      "Enter order time of customers number 1 and Iroh's prep time: \n"
     ]
    },
    {
     "name": "stdin",
     "output_type": "stream",
     "text": [
      " 5\n"
     ]
    },
    {
     "name": "stdout",
     "output_type": "stream",
     "text": [
      "Enter order time of customers number 1 and Iroh's prep time: \n"
     ]
    },
    {
     "name": "stdin",
     "output_type": "stream",
     "text": [
      " 2\n"
     ]
    },
    {
     "name": "stdout",
     "output_type": "stream",
     "text": [
      "Enter order time of customers number 2 and Iroh's prep time: \n"
     ]
    },
    {
     "name": "stdin",
     "output_type": "stream",
     "text": [
      " 5\n"
     ]
    },
    {
     "name": "stdout",
     "output_type": "stream",
     "text": [
      "Enter order time of customers number 2 and Iroh's prep time: \n"
     ]
    },
    {
     "name": "stdin",
     "output_type": "stream",
     "text": [
      " 4\n"
     ]
    },
    {
     "name": "stdout",
     "output_type": "stream",
     "text": [
      "Enter order time of customers number 3 and Iroh's prep time: \n"
     ]
    },
    {
     "name": "stdin",
     "output_type": "stream",
     "text": [
      " 10\n"
     ]
    },
    {
     "name": "stdout",
     "output_type": "stream",
     "text": [
      "Enter order time of customers number 3 and Iroh's prep time: \n"
     ]
    },
    {
     "name": "stdin",
     "output_type": "stream",
     "text": [
      " 3\n"
     ]
    },
    {
     "name": "stdout",
     "output_type": "stream",
     "text": [
      "Enter order time of customers number 4 and Iroh's prep time: \n"
     ]
    },
    {
     "name": "stdin",
     "output_type": "stream",
     "text": [
      " 20\n"
     ]
    },
    {
     "name": "stdout",
     "output_type": "stream",
     "text": [
      "Enter order time of customers number 4 and Iroh's prep time: \n"
     ]
    },
    {
     "name": "stdin",
     "output_type": "stream",
     "text": [
      " 1\n"
     ]
    }
   ],
   "source": [
    "m = int(input('number of customers: '))\n",
    "n=2\n",
    "customers=[]\n",
    "for i in range(0,m):\n",
    "    customers.append([])\n",
    "\n",
    "for i in range(0,m):\n",
    "    for j in range(0,n):\n",
    "        customers[i].append(j)\n",
    "        customers[i][j]\n",
    "\n",
    "for i in range(0,m):\n",
    "    for j in range(0,n):\n",
    "        print(f\"Enter order time of customers number {i+1} and Iroh's prep time: \")\n",
    "        customers[i][j]=int(input())\n",
    "\n",
    "\n",
    "\n",
    "\n",
    "    \n"
   ]
  },
  {
   "cell_type": "code",
   "execution_count": 15,
   "id": "a2e7df59-de39-414f-ac56-72081119303c",
   "metadata": {},
   "outputs": [
    {
     "name": "stdout",
     "output_type": "stream",
     "text": [
      "[2, 6, 4, 1]\n",
      "Average is: 3.2500\n"
     ]
    }
   ],
   "source": [
    "sum=[]\n",
    "current=customers[0][1]+customers[0][0]\n",
    "sum.append(customers[0][1])\n",
    "for i in range(1,len(customers)):\n",
    "    \n",
    "        if customers[i][0]>current:\n",
    "            elem=customers[i][1]\n",
    "            current=customers[i][0]\n",
    "            sum.append(elem)\n",
    "            \n",
    "\n",
    "        elif customers[i][0]<current:\n",
    "            elem=(current-customers[i][0])+customers[i][1]\n",
    "            current+=customers[i][1]\n",
    "            sum.append(elem)\n",
    "\n",
    "        else :\n",
    "            elem=customers[i][1]\n",
    "            current+=customers[i][1]\n",
    "            sum.append(elem)\n",
    "\n",
    "avg=0\n",
    "print(sum)\n",
    "for j in range(len(sum)):\n",
    "\n",
    "    avg=avg+sum[j]\n",
    "\n",
    "riyal_avg=(avg/len(sum))\n",
    "\n",
    "print(f\"Average is: {riyal_avg:.4f}\")\n",
    "    "
   ]
  },
  {
   "cell_type": "code",
   "execution_count": null,
   "id": "eb84e093-e7ce-459a-8b2b-a95cda1026d9",
   "metadata": {},
   "outputs": [],
   "source": []
  },
  {
   "cell_type": "code",
   "execution_count": null,
   "id": "2c45b87b-3ddc-4a59-ad33-e640cbf9080f",
   "metadata": {},
   "outputs": [],
   "source": []
  }
 ],
 "metadata": {
  "kernelspec": {
   "display_name": "Python 3 (ipykernel)",
   "language": "python",
   "name": "python3"
  },
  "language_info": {
   "codemirror_mode": {
    "name": "ipython",
    "version": 3
   },
   "file_extension": ".py",
   "mimetype": "text/x-python",
   "name": "python",
   "nbconvert_exporter": "python",
   "pygments_lexer": "ipython3",
   "version": "3.12.4"
  }
 },
 "nbformat": 4,
 "nbformat_minor": 5
}
