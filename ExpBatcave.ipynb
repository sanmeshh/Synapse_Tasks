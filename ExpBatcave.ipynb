{
 "cells": [
  {
   "cell_type": "code",
   "execution_count": 58,
   "id": "9ef40d85-b0f3-4c64-b78e-5c16fde021a7",
   "metadata": {},
   "outputs": [
    {
     "name": "stdout",
     "output_type": "stream",
     "text": [
      "('Batarangs', 5, True)\n",
      "('Batmobile Tires', 4, True)\n",
      "('Explosive Batarangs', 3, True)\n",
      "('Grapple Gun', 3, True)\n",
      "('Tear Gas Grenades', 2, True)\n",
      "('Night Vision Goggles', 1, True)\n",
      "('Utility Belt', 1, True)\n",
      "('Batclaw', 0, False)\n",
      "('Batsignal', 0, False)\n",
      "('Smoke Pellets', 0, False)\n"
     ]
    }
   ],
   "source": [
    "\n",
    "\n",
    "def sortgadgets(gadgets):\n",
    "    bool=2\n",
    "    n=len(gadgets)\n",
    "    in_stock=[]\n",
    "    not_in_stock=[]\n",
    "    #separating in stock and not in stock gadgets\n",
    "    for i in range(n):     \n",
    "        if gadgets[i][bool]==True:\n",
    "            in_stock.append(gadgets[i])\n",
    "        else:\n",
    "            not_in_stock.append(gadgets[i])\n",
    "\n",
    "\n",
    "    #sorting in stock gadgets according to quantity and \n",
    "    #gadgets of same number of quantites thereby getting sorted according to their names\n",
    "    in_stock.sort( reverse=True,key=lambda x:int(x[1]))\n",
    "    #sorting not in stock gadgets according to names as their quantities are same(0)\n",
    "    not_in_stock.sort()\n",
    "\n",
    "    #compiling both types of gadgets in order\n",
    "    final_gadgets=in_stock[:]+not_in_stock[:]\n",
    "    return final_gadgets\n",
    "\n",
    "gadgets = [\n",
    "\n",
    "(\"Explosive Batarangs\", 3, True),\n",
    "\n",
    "(\"Batarangs\", 5, True),\n",
    "\n",
    "(\"Smoke Pellets\", 0, False), (\"Tear Gas Grenades\", 2, True),\n",
    "\n",
    "(\"Night Vision Goggles\", 1, True),\n",
    "\n",
    "(\"Batclaw\", 0, False),\n",
    "\n",
    "(\"Grapple Gun\", 3, True), (\"Batsignal\", 0, False),\n",
    "\n",
    "(\"Utility Belt\", 1, True),\n",
    "\n",
    "(\"Batmobile Tires\", 4, True)]\n",
    "\n",
    "for i in sortgadgets(gadgets):\n",
    "    print(i)\n",
    "#printing the gadgets list\n",
    "\n",
    "\n",
    "\n",
    "\n",
    "\n",
    "\n",
    "\n",
    "     \n",
    "\n",
    "\n",
    "\n",
    "\n"
   ]
  },
  {
   "cell_type": "code",
   "execution_count": null,
   "id": "40eaa4e0-baf6-4b2b-b9d8-4af73af2d39d",
   "metadata": {},
   "outputs": [],
   "source": []
  }
 ],
 "metadata": {
  "kernelspec": {
   "display_name": "Python 3 (ipykernel)",
   "language": "python",
   "name": "python3"
  },
  "language_info": {
   "codemirror_mode": {
    "name": "ipython",
    "version": 3
   },
   "file_extension": ".py",
   "mimetype": "text/x-python",
   "name": "python",
   "nbconvert_exporter": "python",
   "pygments_lexer": "ipython3",
   "version": "3.12.4"
  }
 },
 "nbformat": 4,
 "nbformat_minor": 5
}
