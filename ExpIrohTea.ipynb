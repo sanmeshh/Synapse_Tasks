{
 "cells": [
  {
   "cell_type": "code",
   "execution_count": 23,
   "id": "92ac7857-cf29-41d4-96f9-936a14f5c9b3",
   "metadata": {},
   "outputs": [
    {
     "name": "stdin",
     "output_type": "stream",
     "text": [
      "number of customers:  4\n"
     ]
    },
    {
     "name": "stdout",
     "output_type": "stream",
     "text": [
      "Enter the1customers's order time:  Enter the1 Iroh's prep time: \n"
     ]
    },
    {
     "name": "stdin",
     "output_type": "stream",
     "text": [
      " 5\n"
     ]
    },
    {
     "name": "stdout",
     "output_type": "stream",
     "text": [
      "Enter the1customers's order time:  Enter the2 Iroh's prep time: \n"
     ]
    },
    {
     "name": "stdin",
     "output_type": "stream",
     "text": [
      " 2\n"
     ]
    },
    {
     "name": "stdout",
     "output_type": "stream",
     "text": [
      "Enter the2customers's order time:  Enter the1 Iroh's prep time: \n"
     ]
    },
    {
     "name": "stdin",
     "output_type": "stream",
     "text": [
      " 5\n"
     ]
    },
    {
     "name": "stdout",
     "output_type": "stream",
     "text": [
      "Enter the2customers's order time:  Enter the2 Iroh's prep time: \n"
     ]
    },
    {
     "name": "stdin",
     "output_type": "stream",
     "text": [
      " 4\n"
     ]
    },
    {
     "name": "stdout",
     "output_type": "stream",
     "text": [
      "Enter the3customers's order time:  Enter the1 Iroh's prep time: \n"
     ]
    },
    {
     "name": "stdin",
     "output_type": "stream",
     "text": [
      " 10\n"
     ]
    },
    {
     "name": "stdout",
     "output_type": "stream",
     "text": [
      "Enter the3customers's order time:  Enter the2 Iroh's prep time: \n"
     ]
    },
    {
     "name": "stdin",
     "output_type": "stream",
     "text": [
      " 3\n"
     ]
    },
    {
     "name": "stdout",
     "output_type": "stream",
     "text": [
      "Enter the4customers's order time:  Enter the1 Iroh's prep time: \n"
     ]
    },
    {
     "name": "stdin",
     "output_type": "stream",
     "text": [
      " 20\n"
     ]
    },
    {
     "name": "stdout",
     "output_type": "stream",
     "text": [
      "Enter the4customers's order time:  Enter the2 Iroh's prep time: \n"
     ]
    },
    {
     "name": "stdin",
     "output_type": "stream",
     "text": [
      " 1\n"
     ]
    },
    {
     "name": "stdout",
     "output_type": "stream",
     "text": [
      "[[5, 2], [5, 4], [10, 3], [20, 1]]\n"
     ]
    }
   ],
   "source": [
    "m = int(input('number of customers: '))\n",
    "n=2\n",
    "customers=[]\n",
    "for i in range(0,m):\n",
    "    customers.append([])\n",
    "\n",
    "for i in range(0,m):\n",
    "    for j in range(0,n):\n",
    "        customers[i].append(j)\n",
    "        customers[i][j]\n",
    "\n",
    "for i in range(0,m):\n",
    "    for j in range(0,n):\n",
    "        print(f\"Enter the {i+1} customers's order time and Iroh's prep time: \")\n",
    "        customers[i][j]=int(input())\n",
    "\n",
    "print(customers)\n",
    "\n",
    "\n",
    "    \n"
   ]
  },
  {
   "cell_type": "code",
   "execution_count": 29,
   "id": "04fabc4c-6337-4c68-a662-ba288d1962df",
   "metadata": {},
   "outputs": [
    {
     "ename": "SyntaxError",
     "evalue": "invalid syntax (2044358576.py, line 2)",
     "output_type": "error",
     "traceback": [
      "\u001b[1;36m  Cell \u001b[1;32mIn[29], line 2\u001b[1;36m\u001b[0m\n\u001b[1;33m    1. The first customer arrives at time 5, Iroh takes his order and starts preparing it\u001b[0m\n\u001b[1;37m       ^\u001b[0m\n\u001b[1;31mSyntaxError\u001b[0m\u001b[1;31m:\u001b[0m invalid syntax\n"
     ]
    }
   ],
   "source": [
    "print(customers)\n",
    "# 1. The first customer arrives at time 5, Iroh takes his order and starts preparing it\n",
    "# immediately at time 5, and finishes at time 7, so the waiting time of the first customer is 7\n",
    "# - 5 = 2.\n",
    "# 2. The second customer arrives at time 5, Iroh takes his order and starts preparing it at time\n",
    "# 7, and finishes at time 11, so the waiting time of the second customer is 11 - 5 = 6.\n",
    "# 3. The third customer arrives at time 10, Iroh takes his order and starts preparing it at time\n",
    "# 11, and finishes at time 14, so the waiting time of the third customer is 14 - 10 = 4.\n",
    "# 4. The fourth customer arrives at time 20, Iroh takes his order and starts preparing it\n",
    "# immediately at time 20, and finishes at time 21, so the waiting time of the fourth\n",
    "# customer is 21 - 20 = 1.\n",
    "# So the average waiting time = (2 + 6 + 4 + 1) / 4 = 3.25."
   ]
  },
  {
   "cell_type": "code",
   "execution_count": 52,
   "id": "a2e7df59-de39-414f-ac56-72081119303c",
   "metadata": {},
   "outputs": [
    {
     "name": "stdout",
     "output_type": "stream",
     "text": [
      "[2, 6, 4, 1]\n",
      "Average is: 3.2500\n"
     ]
    }
   ],
   "source": [
    "sum=[]\n",
    "current=customers[0][1]+customers[0][0]\n",
    "sum.append(customers[0][1])\n",
    "for i in range(1,len(customers)):\n",
    "    \n",
    "        if customers[i][0]>current:\n",
    "            elem=customers[i][1]\n",
    "            current=customers[i][0]\n",
    "            sum.append(elem)\n",
    "            \n",
    "\n",
    "        elif customers[i][0]<current:\n",
    "            elem=(current-customers[i][0])+customers[i][1]\n",
    "            current+=customers[i][1]\n",
    "            sum.append(elem)\n",
    "\n",
    "        else :\n",
    "            elem=customers[i][1]\n",
    "            current+=customers[i][1]\n",
    "            sum.append(elem)\n",
    "\n",
    "avg=0\n",
    "print(sum)\n",
    "for j in range(len(sum)):\n",
    "\n",
    "    avg=avg+sum[j]\n",
    "\n",
    "riyal_avg=(avg/len(sum))\n",
    "\n",
    "print(f\"Average is: {riyal_avg:.4f}\")\n",
    "    "
   ]
  },
  {
   "cell_type": "code",
   "execution_count": null,
   "id": "eb84e093-e7ce-459a-8b2b-a95cda1026d9",
   "metadata": {},
   "outputs": [],
   "source": []
  }
 ],
 "metadata": {
  "kernelspec": {
   "display_name": "Python 3 (ipykernel)",
   "language": "python",
   "name": "python3"
  },
  "language_info": {
   "codemirror_mode": {
    "name": "ipython",
    "version": 3
   },
   "file_extension": ".py",
   "mimetype": "text/x-python",
   "name": "python",
   "nbconvert_exporter": "python",
   "pygments_lexer": "ipython3",
   "version": "3.12.4"
  }
 },
 "nbformat": 4,
 "nbformat_minor": 5
}
